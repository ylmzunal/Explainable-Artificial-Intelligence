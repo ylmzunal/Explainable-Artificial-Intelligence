{
 "cells": [
  {
   "cell_type": "code",
   "execution_count": 1,
   "id": "4ff08aad-a827-4bd7-8111-7d9223f39e9e",
   "metadata": {},
   "outputs": [],
   "source": [
    "import numpy as np\n",
    "\n",
    "def sigmoid(z):\n",
    "    return 1 / (1 + np.exp(-z))\n",
    "\n",
    "def logistic_regression(X, y, num_steps, learning_rate):\n",
    "    # X matrisine bias terimi olarak 1'lerden oluşan bir sütun ekleyin\n",
    "    intercept = np.ones((X.shape[0], 1))\n",
    "    X = np.hstack((intercept, X))\n",
    "    \n",
    "    # Ağırlıkları başlatma\n",
    "    weights = np.zeros(X.shape[1])\n",
    "    \n",
    "    # Gradyan inişi\n",
    "    for step in range(num_steps):\n",
    "        scores = np.dot(X, weights)\n",
    "        predictions = sigmoid(scores)\n",
    "\n",
    "        # Hata vektörünü hesaplama\n",
    "        error = y - predictions\n",
    "\n",
    "        # Gradyanı hesaplama\n",
    "        gradient = np.dot(X.T, error)\n",
    "\n",
    "        # Ağırlıkları güncelleme\n",
    "        weights += learning_rate * gradient\n",
    "        \n",
    "        # İsteğe bağlı: Her adımda log-likelihood değerini hesaplayarak izleyebilirsiniz\n",
    "        if step % 10000 == 0:\n",
    "            print(log_likelihood(X, y, weights))\n",
    "    \n",
    "    return weights\n",
    "\n",
    "def log_likelihood(X, y, weights):\n",
    "    scores = np.dot(X, weights)\n",
    "    ll = np.sum( y*scores - np.log(1 + np.exp(scores)) )\n",
    "    return ll\n"
   ]
  },
  {
   "cell_type": "code",
   "execution_count": 2,
   "id": "6942efeb-c5bf-443c-9d3a-9b2297481f25",
   "metadata": {},
   "outputs": [
    {
     "name": "stdout",
     "output_type": "stream",
     "text": [
      "-2.5172654836832447\n",
      "-0.01239214655927478\n",
      "-0.006250449237507449\n",
      "[0.00251799 0.99997618]\n"
     ]
    }
   ],
   "source": [
    "# Örnek veri (X: özellikler, y: hedef değişken)\n",
    "X = np.array([[0.5, 1], [1, 2], [3, 1.5], [2, 3]])\n",
    "y = np.array([0, 0, 1, 1])\n",
    "\n",
    "# Modeli eğitme\n",
    "weights = logistic_regression(X, y, num_steps=30000, learning_rate=0.1)\n",
    "\n",
    "# Tahmin yapma\n",
    "def predict(X, weights):\n",
    "    intercept = np.ones((X.shape[0], 1))\n",
    "    X = np.hstack((intercept, X))\n",
    "    return sigmoid(np.dot(X, weights))\n",
    "\n",
    "# Yeni veri üzerinde tahmin yapma\n",
    "new_X = np.array([[1, 2], [2, 0.5]])\n",
    "predictions = predict(new_X, weights)\n",
    "print(predictions)\n"
   ]
  },
  {
   "cell_type": "code",
   "execution_count": 3,
   "id": "136a5c95-0856-40eb-a7b2-57bc6151bc13",
   "metadata": {},
   "outputs": [
    {
     "name": "stdout",
     "output_type": "stream",
     "text": [
      "Model weights: [-16.67594444  14.08413201  -1.69498075]\n"
     ]
    }
   ],
   "source": [
    "print(\"Model weights:\", weights)"
   ]
  },
  {
   "cell_type": "code",
   "execution_count": null,
   "id": "de32e60f-dc3c-4e61-b476-a04b1dfc2ccf",
   "metadata": {},
   "outputs": [],
   "source": []
  }
 ],
 "metadata": {
  "kernelspec": {
   "display_name": "Python 3 (ipykernel)",
   "language": "python",
   "name": "python3"
  },
  "language_info": {
   "codemirror_mode": {
    "name": "ipython",
    "version": 3
   },
   "file_extension": ".py",
   "mimetype": "text/x-python",
   "name": "python",
   "nbconvert_exporter": "python",
   "pygments_lexer": "ipython3",
   "version": "3.11.5"
  }
 },
 "nbformat": 4,
 "nbformat_minor": 5
}
